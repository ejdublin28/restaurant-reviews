{
 "cells": [
  {
   "cell_type": "code",
   "execution_count": 1,
   "id": "b8226b1d-cfa7-4c6c-b9e8-a1bce339ad69",
   "metadata": {},
   "outputs": [],
   "source": [
    "# Dependencies\n",
    "import pymongo"
   ]
  },
  {
   "cell_type": "code",
   "execution_count": null,
   "id": "1aa49828-cdf7-4913-aa2d-e53d8c6ace87",
   "metadata": {},
   "outputs": [],
   "source": [
    "# The default port used by MongoDB is 27017\n",
    "# https://docs.mongodb.com/manual/reference/default-mongodb-port/\n",
    "conn = 'mongodb://localhost:27017'\n",
    "client = pymongo.MongoClient(conn)\n",
    "\n",
    "# Declare the database\n",
    "db = client.merged_df\n",
    "\n"
   ]
  }
 ],
 "metadata": {
  "kernelspec": {
   "display_name": "Python 3 (ipykernel)",
   "language": "python",
   "name": "python3"
  },
  "language_info": {
   "codemirror_mode": {
    "name": "ipython",
    "version": 3
   },
   "file_extension": ".py",
   "mimetype": "text/x-python",
   "name": "python",
   "nbconvert_exporter": "python",
   "pygments_lexer": "ipython3",
   "version": "3.9.7"
  }
 },
 "nbformat": 4,
 "nbformat_minor": 5
}
